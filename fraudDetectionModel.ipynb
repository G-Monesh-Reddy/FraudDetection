{
  "cells": [
    {
      "cell_type": "code",
      "source": [
        "from google.colab import files\n",
        "\n",
        "files.upload()  # Upload kaggle.json here"
      ],
      "metadata": {
        "colab": {
          "base_uri": "https://localhost:8080/",
          "height": 91
        },
        "id": "a1MwYKd153qw",
        "outputId": "6b0951b6-ae41-4f10-b662-313bd4b55079"
      },
      "execution_count": 1,
      "outputs": [
        {
          "output_type": "display_data",
          "data": {
            "text/plain": [
              "<IPython.core.display.HTML object>"
            ],
            "text/html": [
              "\n",
              "     <input type=\"file\" id=\"files-4256165d-7f48-464a-9a08-eb94ea35fe69\" name=\"files[]\" multiple disabled\n",
              "        style=\"border:none\" />\n",
              "     <output id=\"result-4256165d-7f48-464a-9a08-eb94ea35fe69\">\n",
              "      Upload widget is only available when the cell has been executed in the\n",
              "      current browser session. Please rerun this cell to enable.\n",
              "      </output>\n",
              "      <script>// Copyright 2017 Google LLC\n",
              "//\n",
              "// Licensed under the Apache License, Version 2.0 (the \"License\");\n",
              "// you may not use this file except in compliance with the License.\n",
              "// You may obtain a copy of the License at\n",
              "//\n",
              "//      http://www.apache.org/licenses/LICENSE-2.0\n",
              "//\n",
              "// Unless required by applicable law or agreed to in writing, software\n",
              "// distributed under the License is distributed on an \"AS IS\" BASIS,\n",
              "// WITHOUT WARRANTIES OR CONDITIONS OF ANY KIND, either express or implied.\n",
              "// See the License for the specific language governing permissions and\n",
              "// limitations under the License.\n",
              "\n",
              "/**\n",
              " * @fileoverview Helpers for google.colab Python module.\n",
              " */\n",
              "(function(scope) {\n",
              "function span(text, styleAttributes = {}) {\n",
              "  const element = document.createElement('span');\n",
              "  element.textContent = text;\n",
              "  for (const key of Object.keys(styleAttributes)) {\n",
              "    element.style[key] = styleAttributes[key];\n",
              "  }\n",
              "  return element;\n",
              "}\n",
              "\n",
              "// Max number of bytes which will be uploaded at a time.\n",
              "const MAX_PAYLOAD_SIZE = 100 * 1024;\n",
              "\n",
              "function _uploadFiles(inputId, outputId) {\n",
              "  const steps = uploadFilesStep(inputId, outputId);\n",
              "  const outputElement = document.getElementById(outputId);\n",
              "  // Cache steps on the outputElement to make it available for the next call\n",
              "  // to uploadFilesContinue from Python.\n",
              "  outputElement.steps = steps;\n",
              "\n",
              "  return _uploadFilesContinue(outputId);\n",
              "}\n",
              "\n",
              "// This is roughly an async generator (not supported in the browser yet),\n",
              "// where there are multiple asynchronous steps and the Python side is going\n",
              "// to poll for completion of each step.\n",
              "// This uses a Promise to block the python side on completion of each step,\n",
              "// then passes the result of the previous step as the input to the next step.\n",
              "function _uploadFilesContinue(outputId) {\n",
              "  const outputElement = document.getElementById(outputId);\n",
              "  const steps = outputElement.steps;\n",
              "\n",
              "  const next = steps.next(outputElement.lastPromiseValue);\n",
              "  return Promise.resolve(next.value.promise).then((value) => {\n",
              "    // Cache the last promise value to make it available to the next\n",
              "    // step of the generator.\n",
              "    outputElement.lastPromiseValue = value;\n",
              "    return next.value.response;\n",
              "  });\n",
              "}\n",
              "\n",
              "/**\n",
              " * Generator function which is called between each async step of the upload\n",
              " * process.\n",
              " * @param {string} inputId Element ID of the input file picker element.\n",
              " * @param {string} outputId Element ID of the output display.\n",
              " * @return {!Iterable<!Object>} Iterable of next steps.\n",
              " */\n",
              "function* uploadFilesStep(inputId, outputId) {\n",
              "  const inputElement = document.getElementById(inputId);\n",
              "  inputElement.disabled = false;\n",
              "\n",
              "  const outputElement = document.getElementById(outputId);\n",
              "  outputElement.innerHTML = '';\n",
              "\n",
              "  const pickedPromise = new Promise((resolve) => {\n",
              "    inputElement.addEventListener('change', (e) => {\n",
              "      resolve(e.target.files);\n",
              "    });\n",
              "  });\n",
              "\n",
              "  const cancel = document.createElement('button');\n",
              "  inputElement.parentElement.appendChild(cancel);\n",
              "  cancel.textContent = 'Cancel upload';\n",
              "  const cancelPromise = new Promise((resolve) => {\n",
              "    cancel.onclick = () => {\n",
              "      resolve(null);\n",
              "    };\n",
              "  });\n",
              "\n",
              "  // Wait for the user to pick the files.\n",
              "  const files = yield {\n",
              "    promise: Promise.race([pickedPromise, cancelPromise]),\n",
              "    response: {\n",
              "      action: 'starting',\n",
              "    }\n",
              "  };\n",
              "\n",
              "  cancel.remove();\n",
              "\n",
              "  // Disable the input element since further picks are not allowed.\n",
              "  inputElement.disabled = true;\n",
              "\n",
              "  if (!files) {\n",
              "    return {\n",
              "      response: {\n",
              "        action: 'complete',\n",
              "      }\n",
              "    };\n",
              "  }\n",
              "\n",
              "  for (const file of files) {\n",
              "    const li = document.createElement('li');\n",
              "    li.append(span(file.name, {fontWeight: 'bold'}));\n",
              "    li.append(span(\n",
              "        `(${file.type || 'n/a'}) - ${file.size} bytes, ` +\n",
              "        `last modified: ${\n",
              "            file.lastModifiedDate ? file.lastModifiedDate.toLocaleDateString() :\n",
              "                                    'n/a'} - `));\n",
              "    const percent = span('0% done');\n",
              "    li.appendChild(percent);\n",
              "\n",
              "    outputElement.appendChild(li);\n",
              "\n",
              "    const fileDataPromise = new Promise((resolve) => {\n",
              "      const reader = new FileReader();\n",
              "      reader.onload = (e) => {\n",
              "        resolve(e.target.result);\n",
              "      };\n",
              "      reader.readAsArrayBuffer(file);\n",
              "    });\n",
              "    // Wait for the data to be ready.\n",
              "    let fileData = yield {\n",
              "      promise: fileDataPromise,\n",
              "      response: {\n",
              "        action: 'continue',\n",
              "      }\n",
              "    };\n",
              "\n",
              "    // Use a chunked sending to avoid message size limits. See b/62115660.\n",
              "    let position = 0;\n",
              "    do {\n",
              "      const length = Math.min(fileData.byteLength - position, MAX_PAYLOAD_SIZE);\n",
              "      const chunk = new Uint8Array(fileData, position, length);\n",
              "      position += length;\n",
              "\n",
              "      const base64 = btoa(String.fromCharCode.apply(null, chunk));\n",
              "      yield {\n",
              "        response: {\n",
              "          action: 'append',\n",
              "          file: file.name,\n",
              "          data: base64,\n",
              "        },\n",
              "      };\n",
              "\n",
              "      let percentDone = fileData.byteLength === 0 ?\n",
              "          100 :\n",
              "          Math.round((position / fileData.byteLength) * 100);\n",
              "      percent.textContent = `${percentDone}% done`;\n",
              "\n",
              "    } while (position < fileData.byteLength);\n",
              "  }\n",
              "\n",
              "  // All done.\n",
              "  yield {\n",
              "    response: {\n",
              "      action: 'complete',\n",
              "    }\n",
              "  };\n",
              "}\n",
              "\n",
              "scope.google = scope.google || {};\n",
              "scope.google.colab = scope.google.colab || {};\n",
              "scope.google.colab._files = {\n",
              "  _uploadFiles,\n",
              "  _uploadFilesContinue,\n",
              "};\n",
              "})(self);\n",
              "</script> "
            ]
          },
          "metadata": {}
        },
        {
          "output_type": "stream",
          "name": "stdout",
          "text": [
            "Saving kaggle.json to kaggle.json\n"
          ]
        },
        {
          "output_type": "execute_result",
          "data": {
            "text/plain": [
              "{'kaggle.json': b'{\"username\":\"gurrammoneshreddy\",\"key\":\"07c1fc0cfb350a06adaba20bc6321c0d\"}'}"
            ]
          },
          "metadata": {},
          "execution_count": 1
        }
      ]
    },
    {
      "cell_type": "code",
      "source": [
        "!pip install kaggle\n",
        "!mkdir -p ~/.kaggle\n",
        "!mv kaggle.json ~/.kaggle/\n",
        "!chmod 600 ~/.kaggle/kaggle.json"
      ],
      "metadata": {
        "colab": {
          "base_uri": "https://localhost:8080/"
        },
        "id": "n6XvvSOH6BO3",
        "outputId": "fadaed45-f084-4a5d-8787-15ce72267338"
      },
      "execution_count": 2,
      "outputs": [
        {
          "output_type": "stream",
          "name": "stdout",
          "text": [
            "Requirement already satisfied: kaggle in /usr/local/lib/python3.11/dist-packages (1.6.17)\n",
            "Requirement already satisfied: six>=1.10 in /usr/local/lib/python3.11/dist-packages (from kaggle) (1.17.0)\n",
            "Requirement already satisfied: certifi>=2023.7.22 in /usr/local/lib/python3.11/dist-packages (from kaggle) (2025.1.31)\n",
            "Requirement already satisfied: python-dateutil in /usr/local/lib/python3.11/dist-packages (from kaggle) (2.8.2)\n",
            "Requirement already satisfied: requests in /usr/local/lib/python3.11/dist-packages (from kaggle) (2.32.3)\n",
            "Requirement already satisfied: tqdm in /usr/local/lib/python3.11/dist-packages (from kaggle) (4.67.1)\n",
            "Requirement already satisfied: python-slugify in /usr/local/lib/python3.11/dist-packages (from kaggle) (8.0.4)\n",
            "Requirement already satisfied: urllib3 in /usr/local/lib/python3.11/dist-packages (from kaggle) (2.3.0)\n",
            "Requirement already satisfied: bleach in /usr/local/lib/python3.11/dist-packages (from kaggle) (6.2.0)\n",
            "Requirement already satisfied: webencodings in /usr/local/lib/python3.11/dist-packages (from bleach->kaggle) (0.5.1)\n",
            "Requirement already satisfied: text-unidecode>=1.3 in /usr/local/lib/python3.11/dist-packages (from python-slugify->kaggle) (1.3)\n",
            "Requirement already satisfied: charset-normalizer<4,>=2 in /usr/local/lib/python3.11/dist-packages (from requests->kaggle) (3.4.1)\n",
            "Requirement already satisfied: idna<4,>=2.5 in /usr/local/lib/python3.11/dist-packages (from requests->kaggle) (3.10)\n"
          ]
        }
      ]
    },
    {
      "cell_type": "code",
      "source": [
        "!kaggle datasets download -d kartik2112/fraud-detection\n",
        "!unzip fraud-detection.zip"
      ],
      "metadata": {
        "colab": {
          "base_uri": "https://localhost:8080/"
        },
        "id": "Rz2VkZGa6IgO",
        "outputId": "d1e52c9d-b9c7-4926-a9ba-b23f336856a5"
      },
      "execution_count": 3,
      "outputs": [
        {
          "output_type": "stream",
          "name": "stdout",
          "text": [
            "Dataset URL: https://www.kaggle.com/datasets/kartik2112/fraud-detection\n",
            "License(s): CC0-1.0\n",
            "Downloading fraud-detection.zip to /content\n",
            " 93% 187M/202M [00:01<00:00, 158MB/s]\n",
            "100% 202M/202M [00:01<00:00, 140MB/s]\n",
            "Archive:  fraud-detection.zip\n",
            "  inflating: fraudTest.csv           \n",
            "  inflating: fraudTrain.csv          \n"
          ]
        }
      ]
    },
    {
      "cell_type": "code",
      "source": [
        "import pandas as pd\n",
        "import numpy as np\n",
        "import joblib\n",
        "from sklearn.preprocessing import LabelEncoder, StandardScaler\n",
        "from imblearn.over_sampling import SMOTE\n",
        "from sklearn.model_selection import train_test_split\n",
        "from sklearn.linear_model import LogisticRegression\n",
        "from sklearn.metrics import accuracy_score, classification_report\n",
        "\n",
        "# 📌 *1. Load Data*\n",
        "train_df = pd.read_csv(\"/content/fraudTrain.csv\")\n",
        "test_df = pd.read_csv(\"/content/fraudTest.csv\")\n",
        "\n",
        "# 📌 *2. Remove Null Values*\n",
        "train_df = train_df.dropna()\n",
        "test_df = test_df.dropna()\n",
        "\n",
        "# 📌 *3. Drop Unnecessary Columns*\n",
        "drop_cols = ['trans_date_trans_time', 'cc_num', 'first', 'last', 'street', 'city',\n",
        "             'state', 'zip', 'job', 'dob', 'trans_num']\n",
        "train_df = train_df.drop(columns=drop_cols)\n",
        "test_df = test_df.drop(columns=drop_cols)\n",
        "\n",
        "# 📌 *4. Convert Categorical Features*\n",
        "encoder = LabelEncoder()\n",
        "categorical_cols = ['merchant', 'category', 'gender']\n",
        "for col in categorical_cols:\n",
        "    train_df[col] = encoder.fit_transform(train_df[col])\n",
        "    test_df[col] = encoder.transform(test_df[col])\n",
        "\n",
        "print(\"\\n✅ Categorical Features Encoded!\")\n",
        "\n",
        "# 📌 *5. Select Important Features*\n",
        "correlation_matrix = train_df.corr()\n",
        "top_features = correlation_matrix[\"is_fraud\"].abs().sort_values(ascending=False).index[1:7].tolist()\n",
        "\n",
        "print(\"\\n✅ Selected Features:\", top_features)\n",
        "\n",
        "# 📌 *6. Define Features & Target*\n",
        "X = train_df[top_features]\n",
        "y = train_df['is_fraud']\n",
        "\n",
        "# 📌 *7. Handle Class Imbalance Using SMOTE*\n",
        "smote = SMOTE(sampling_strategy=0.3, random_state=42)\n",
        "X_resampled, y_resampled = smote.fit_resample(X, y)\n",
        "\n",
        "print(\"\\n✅ SMOTE Applied: Balanced Data\")\n",
        "\n",
        "# 📌 *8. Train-Test Split*\n",
        "X_train, X_val, y_train, y_val = train_test_split(X_resampled, y_resampled, test_size=0.2, random_state=42)\n",
        "\n",
        "# 📌 *9. Scale Numerical Features*\n",
        "scaler = StandardScaler()\n",
        "X_train = scaler.fit_transform(X_train)\n",
        "X_val = scaler.transform(X_val)\n",
        "\n",
        "# ✅ Save the scaler for future predictions\n",
        "joblib.dump(scaler, \"scaler.pkl\")\n",
        "\n",
        "print(\"✅ Data Preprocessing Done!\")\n",
        "\n",
        "# 📌 *10. Train Logistic Regression Model*\n",
        "logistic_model = LogisticRegression(max_iter=1000)\n",
        "logistic_model.fit(X_train, y_train)\n",
        "\n",
        "# 📌 *11. Evaluate Model*\n",
        "y_pred = logistic_model.predict(X_val)\n",
        "accuracy = accuracy_score(y_val, y_pred)\n",
        "\n",
        "print(f\"\\n🔹 Logistic Regression Accuracy: {accuracy:.4f}\")\n",
        "print(classification_report(y_val, y_pred))\n",
        "\n",
        "# 📌 *12. Save the Model*\n",
        "joblib.dump(logistic_model, \"best_fraud_model.pkl\")\n",
        "print(\"\\n✅ Logistic Regression Model Saved as 'best_fraud_model.pkl'\")"
      ],
      "metadata": {
        "colab": {
          "base_uri": "https://localhost:8080/"
        },
        "id": "sWIYSVcs6wXX",
        "outputId": "bf49e4af-6edf-49f6-ecd6-b3e70e07f667"
      },
      "execution_count": 5,
      "outputs": [
        {
          "output_type": "stream",
          "name": "stdout",
          "text": [
            "\n",
            "✅ Categorical Features Encoded!\n",
            "\n",
            "✅ Selected Features: ['amt', 'category', 'gender', 'unix_time', 'Unnamed: 0', 'city_pop']\n",
            "\n",
            "✅ SMOTE Applied: Balanced Data\n",
            "✅ Data Preprocessing Done!\n",
            "\n",
            "🔹 Logistic Regression Accuracy: 0.9186\n",
            "              precision    recall  f1-score   support\n",
            "\n",
            "           0       0.92      0.98      0.95    257613\n",
            "           1       0.93      0.70      0.80     77571\n",
            "\n",
            "    accuracy                           0.92    335184\n",
            "   macro avg       0.92      0.84      0.87    335184\n",
            "weighted avg       0.92      0.92      0.91    335184\n",
            "\n",
            "\n",
            "✅ Logistic Regression Model Saved as 'best_fraud_model.pkl'\n"
          ]
        }
      ]
    },
    {
      "cell_type": "code",
      "source": [
        "import joblib\n",
        "import numpy as np\n",
        "import time\n",
        "import datetime\n",
        "\n",
        "# ✅ Load the trained model\n",
        "model = joblib.load(\"best_fraud_model.pkl\")\n",
        "\n",
        "# ✅ Load the scaler\n",
        "scaler = joblib.load(\"scaler.pkl\")\n",
        "\n",
        "# ✅ Define Features Used During Training\n",
        "top_features = ['amt', 'category', 'gender', 'unix_time', 'Unnamed: 0', 'city_pop']\n",
        "\n",
        "# 📌 Take manual inputs\n",
        "print(\"\\n🔹 Enter Transaction Details 🔹\")\n",
        "manual_input = []\n",
        "\n",
        "# Get transaction amount\n",
        "amt = float(input(\"Enter Transaction Amount: \"))\n",
        "manual_input.append(amt)\n",
        "\n",
        "# Get category (Already Encoded)\n",
        "category = int(input(\"Enter Category (Encoded Value): \"))\n",
        "manual_input.append(category)\n",
        "\n",
        "# Get gender (Encoded: 0 = Female, 1 = Male)\n",
        "gender = int(input(\"Enter Gender (0 = Female, 1 = Male): \"))\n",
        "manual_input.append(gender)\n",
        "\n",
        "# Get normal time and convert to Unix time\n",
        "date_str = input(\"Enter Transaction Date & Time (YYYY-MM-DD HH:MM:SS): \")\n",
        "unix_time = int(time.mktime(datetime.datetime.strptime(date_str, \"%Y-%m-%d %H:%M:%S\").timetuple()))\n",
        "manual_input.append(unix_time)\n",
        "\n",
        "# Get index (Unnamed: 0)\n",
        "index = int(input(\"Enter Index (Unnamed: 0): \"))\n",
        "manual_input.append(index)\n",
        "\n",
        "# Get city population\n",
        "city_pop = int(input(\"Enter City Population: \"))\n",
        "manual_input.append(city_pop)\n",
        "\n",
        "# 📌 Convert input to numpy array & reshape\n",
        "manual_input = np.array(manual_input).reshape(1, -1)\n",
        "\n",
        "# 📌 Scale the features\n",
        "manual_input_scaled = scaler.transform(manual_input)\n",
        "\n",
        "# 📌 Make a prediction\n",
        "prediction = model.predict(manual_input_scaled)\n",
        "\n",
        "# 📌 Convert result to human-readable format\n",
        "result = \"Fraudulent Transaction 🚨\" if prediction[0] == 1 else \"Legitimate Transaction ✅\"\n",
        "\n",
        "# 📌 Display the prediction\n",
        "print(\"\\n🟢 Prediction:\", result)"
      ],
      "metadata": {
        "colab": {
          "base_uri": "https://localhost:8080/"
        },
        "id": "4ZmLGTra6V0Y",
        "outputId": "f78aa9e7-1728-402c-ca09-ee4ea69ad542"
      },
      "execution_count": 6,
      "outputs": [
        {
          "output_type": "stream",
          "name": "stdout",
          "text": [
            "\n",
            "🔹 Enter Transaction Details 🔹\n",
            "Enter Transaction Amount: 100000\n",
            "Enter Category (Encoded Value): 3\n",
            "Enter Gender (0 = Female, 1 = Male): 1\n",
            "Enter Transaction Date & Time (YYYY-MM-DD HH:MM:SS): 2025-02-22  22:22:22\n",
            "Enter Index (Unnamed: 0): 2\n",
            "Enter City Population: 123654656\n",
            "\n",
            "🟢 Prediction: Fraudulent Transaction 🚨\n"
          ]
        },
        {
          "output_type": "stream",
          "name": "stderr",
          "text": [
            "/usr/local/lib/python3.11/dist-packages/sklearn/utils/validation.py:2739: UserWarning: X does not have valid feature names, but StandardScaler was fitted with feature names\n",
            "  warnings.warn(\n"
          ]
        }
      ]
    },
    {
      "cell_type": "code",
      "source": [
        "import joblib\n",
        "\n",
        "# Save the trained model\n",
        "joblib.dump(model, \"fraud_detection_model.pkl\")\n",
        "\n",
        "print(\"✅ Model saved as 'fraud_detection_model.pkl'\")"
      ],
      "metadata": {
        "colab": {
          "base_uri": "https://localhost:8080/"
        },
        "id": "nUoSnZkN7cAW",
        "outputId": "6a48a6c8-b00c-4edd-cc64-2503ea1d7ead"
      },
      "execution_count": 7,
      "outputs": [
        {
          "output_type": "stream",
          "name": "stdout",
          "text": [
            "✅ Model saved as 'fraud_detection_model.pkl'\n"
          ]
        }
      ]
    }
  ],
  "metadata": {
    "colab": {
      "provenance": []
    },
    "kernelspec": {
      "display_name": "Python 3",
      "name": "python3"
    },
    "language_info": {
      "name": "python"
    }
  },
  "nbformat": 4,
  "nbformat_minor": 0
}